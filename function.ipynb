{
 "cells": [
  {
   "cell_type": "code",
   "execution_count": 1,
   "metadata": {},
   "outputs": [],
   "source": [
    "import numpy as np\n",
    "import matplotlib.pyplot as plt\n",
    "import pandas as pd\n",
    "import stats as stats"
   ]
  },
  {
   "cell_type": "code",
   "execution_count": 16,
   "metadata": {},
   "outputs": [],
   "source": [
    "def read_data(filename):\n",
    "    \n",
    "    df = pd.read_csv(filename,skiprows=[41,42,43,44,45],na_values=[\"..\"],index_col='Country Name')\n",
    "\n",
    "    #df_countries = pd.DataFrame.transpose(df)\n",
    "    df_years = df.drop( axis=1, inplace=True)\n",
    "    \n",
    "    df_countries = df.drop(df.index[1])\n",
    "    df_countries = df_countries.dropna()\n",
    "\n",
    "\n",
    "    #df_countries = df_countries.dropna()\n",
    "    #df_countries = df_countries.drop(df_countries.index[1])\n",
    "\n",
    "    #df_years = pd.DataFrame.transpose(df_countries)\n",
    "\n",
    "    return df, df_years, df_countries"
   ]
  },
  {
   "cell_type": "code",
   "execution_count": 17,
   "metadata": {},
   "outputs": [],
   "source": [
    "filename = \"9b565bfd-e50d-4466-aadd-a7f079f49562_Data.csv\"  \n",
    "df, df_years, df_countries = read_data(filename)"
   ]
  },
  {
   "cell_type": "code",
   "execution_count": 18,
   "metadata": {},
   "outputs": [
    {
     "name": "stdout",
     "output_type": "stream",
     "text": [
      "dataframes with years as columns:\n",
      " Country Name          Australia              China              Italy  \\\n",
      "Series Name   Population, total  Population, total  Population, total   \n",
      "Country Code                AUS                CHN                ITA   \n",
      "1960                 10276477.0        667070000.0         50199700.0   \n",
      "1961                 10483000.0        660330000.0         50536350.0   \n",
      "1962                 10742000.0        665770000.0         50879450.0   \n",
      "...                         ...                ...                ...   \n",
      "2018                 24966643.0       1402760000.0         60421760.0   \n",
      "2019                 25340217.0       1407745000.0         59729081.0   \n",
      "2020                 25655289.0       1411100000.0         59438851.0   \n",
      "2021                 25688079.0       1412360000.0         59109668.0   \n",
      "2022                 25978935.0       1412175000.0         58856847.0   \n",
      "\n",
      "Country Name              Japan           Pakistan       South Africa  \\\n",
      "Series Name   Population, total  Population, total  Population, total   \n",
      "Country Code                JPN                PAK                ZAF   \n",
      "1960                 93216000.0         45954226.0         16520441.0   \n",
      "1961                 94055000.0         47060915.0         16989464.0   \n",
      "1962                 94933000.0         48161841.0         17503133.0   \n",
      "...                         ...                ...                ...   \n",
      "2018                126811000.0        219731479.0         57339635.0   \n",
      "2019                126633000.0        223293280.0         58087055.0   \n",
      "2020                126261000.0        227196741.0         58801927.0   \n",
      "2021                125681593.0        231402117.0         59392255.0   \n",
      "2022                125124989.0        235824862.0         59893885.0   \n",
      "\n",
      "Country Name     United Kingdom      United States            Nigeria  \n",
      "Series Name   Population, total  Population, total  Population, total  \n",
      "Country Code                GBR                USA                NGA  \n",
      "1960                 52400000.0        180671000.0         44928342.0  \n",
      "1961                 52800000.0        183691000.0         45855507.0  \n",
      "1962                 53250000.0        186538000.0         46821845.0  \n",
      "...                         ...                ...                ...  \n",
      "2018                 66460344.0        326838199.0        198387623.0  \n",
      "2019                 66836327.0        328329953.0        203304492.0  \n",
      "2020                 67081234.0        331511512.0        208327405.0  \n",
      "2021                 67026300.0        332031554.0        213401323.0  \n",
      "2022                 66971411.0        333287557.0        218541212.0  \n",
      "\n",
      "[65 rows x 9 columns]\n"
     ]
    }
   ],
   "source": [
    "print('dataframes with years as columns:\\n',df_years)"
   ]
  },
  {
   "cell_type": "code",
   "execution_count": 19,
   "metadata": {},
   "outputs": [
    {
     "name": "stdout",
     "output_type": "stream",
     "text": [
      "dataframes with countries as columns:\n",
      "                       Series Name Country Code         1960         1961  \\\n",
      "Country Name                                                               \n",
      "Australia       Population, total          AUS   10276477.0   10483000.0   \n",
      "China           Population, total          CHN  667070000.0  660330000.0   \n",
      "Italy           Population, total          ITA   50199700.0   50536350.0   \n",
      "Japan           Population, total          JPN   93216000.0   94055000.0   \n",
      "Pakistan        Population, total          PAK   45954226.0   47060915.0   \n",
      "South Africa    Population, total          ZAF   16520441.0   16989464.0   \n",
      "United Kingdom  Population, total          GBR   52400000.0   52800000.0   \n",
      "United States   Population, total          USA  180671000.0  183691000.0   \n",
      "Nigeria         Population, total          NGA   44928342.0   45855507.0   \n",
      "\n",
      "                       1962         1963         1964         1965  \\\n",
      "Country Name                                                         \n",
      "Australia        10742000.0   10950000.0   11167000.0   11388000.0   \n",
      "China           665770000.0  682335000.0  698355000.0  715185000.0   \n",
      "Italy            50879450.0   51252000.0   51675350.0   52112350.0   \n",
      "Japan            94933000.0   95900000.0   96903000.0   97952000.0   \n",
      "Pakistan         48161841.0   49325050.0   50552592.0   51841626.0   \n",
      "South Africa     17503133.0   18042215.0   18603097.0   19187194.0   \n",
      "United Kingdom   53250000.0   53650000.0   54000000.0   54348050.0   \n",
      "United States   186538000.0  189242000.0  191889000.0  194303000.0   \n",
      "Nigeria          46821845.0   47822569.0   48856332.0   49925799.0   \n",
      "\n",
      "                       1966         1967  ...          2013          2014  \\\n",
      "Country Name                              ...                               \n",
      "Australia        11651000.0   11799000.0  ...  2.312813e+07  2.347569e+07   \n",
      "China           735400000.0  754550000.0  ...  1.363240e+09  1.371860e+09   \n",
      "Italy            52519000.0   52900500.0  ...  6.023395e+07  6.078914e+07   \n",
      "Japan            98851000.0   99879000.0  ...  1.274450e+08  1.272760e+08   \n",
      "Pakistan         53199414.0   54629793.0  ...  2.053376e+08  2.082516e+08   \n",
      "South Africa     19789771.0   20410677.0  ...  5.387362e+07  5.472955e+07   \n",
      "United Kingdom   54648500.0   54943600.0  ...  6.412827e+07  6.460230e+07   \n",
      "United States   196560000.0  198712000.0  ...  3.160599e+08  3.183863e+08   \n",
      "Nigeria          51020296.0   52106681.0  ...  1.747261e+08  1.793790e+08   \n",
      "\n",
      "                        2015          2016          2017          2018  \\\n",
      "Country Name                                                             \n",
      "Australia       2.381600e+07  2.419091e+07  2.459420e+07  2.496664e+07   \n",
      "China           1.379860e+09  1.387790e+09  1.396215e+09  1.402760e+09   \n",
      "Italy           6.073058e+07  6.062750e+07  6.053671e+07  6.042176e+07   \n",
      "Japan           1.271410e+08  1.270760e+08  1.269720e+08  1.268110e+08   \n",
      "Pakistan        2.109693e+08  2.135248e+08  2.163797e+08  2.197315e+08   \n",
      "South Africa    5.587650e+07  5.642227e+07  5.664121e+07  5.733964e+07   \n",
      "United Kingdom  6.511622e+07  6.561159e+07  6.605886e+07  6.646034e+07   \n",
      "United States   3.207390e+08  3.230718e+08  3.251221e+08  3.268382e+08   \n",
      "Nigeria         1.839958e+08  1.886669e+08  1.934959e+08  1.983876e+08   \n",
      "\n",
      "                        2019          2020          2021          2022  \n",
      "Country Name                                                            \n",
      "Australia       2.534022e+07  2.565529e+07  2.568808e+07  2.597894e+07  \n",
      "China           1.407745e+09  1.411100e+09  1.412360e+09  1.412175e+09  \n",
      "Italy           5.972908e+07  5.943885e+07  5.910967e+07  5.885685e+07  \n",
      "Japan           1.266330e+08  1.262610e+08  1.256816e+08  1.251250e+08  \n",
      "Pakistan        2.232933e+08  2.271967e+08  2.314021e+08  2.358249e+08  \n",
      "South Africa    5.808706e+07  5.880193e+07  5.939226e+07  5.989388e+07  \n",
      "United Kingdom  6.683633e+07  6.708123e+07  6.702630e+07  6.697141e+07  \n",
      "United States   3.283300e+08  3.315115e+08  3.320316e+08  3.332876e+08  \n",
      "Nigeria         2.033045e+08  2.083274e+08  2.134013e+08  2.185412e+08  \n",
      "\n",
      "[9 rows x 65 columns]\n"
     ]
    }
   ],
   "source": [
    "print('dataframes with countries as columns:\\n',df_countries)"
   ]
  },
  {
   "cell_type": "code",
   "execution_count": 20,
   "metadata": {},
   "outputs": [
    {
     "name": "stdout",
     "output_type": "stream",
     "text": [
      "Country Name          Australia              China              Italy  \\\n",
      "count                        65                 65                 65   \n",
      "unique                       65                 65                 65   \n",
      "top           Population, total  Population, total  Population, total   \n",
      "freq                          1                  1                  1   \n",
      "\n",
      "Country Name        Japan           Pakistan       South Africa  \\\n",
      "count                65.0                 65                 65   \n",
      "unique               64.0                 65                 65   \n",
      "top           127445000.0  Population, total  Population, total   \n",
      "freq                  2.0                  1                  1   \n",
      "\n",
      "Country Name     United Kingdom      United States            Nigeria  \n",
      "count                        65                 65                 65  \n",
      "unique                       65                 65                 65  \n",
      "top           Population, total  Population, total  Population, total  \n",
      "freq                          1                  1                  1  \n"
     ]
    }
   ],
   "source": [
    "print(df_years.describe())"
   ]
  },
  {
   "cell_type": "code",
   "execution_count": 21,
   "metadata": {},
   "outputs": [],
   "source": [
    "#data = df_years.iloc[0:, 1:]\n",
    "#df_years.pivot_table(data, index=['Country Name','Series Name'])\n",
    "#df_years.pivot_table(index=['Country Name','Series Name'])"
   ]
  },
  {
   "cell_type": "code",
   "execution_count": 22,
   "metadata": {},
   "outputs": [
    {
     "ename": "KeyError",
     "evalue": "\"None of [Index(['Series Name', '1990', '1994', '1998', '2002', '2006', '2012'], dtype='object', name='Country Name')] are in the [columns]\"",
     "output_type": "error",
     "traceback": [
      "\u001b[1;31m---------------------------------------------------------------------------\u001b[0m",
      "\u001b[1;31mKeyError\u001b[0m                                  Traceback (most recent call last)",
      "Cell \u001b[1;32mIn[22], line 1\u001b[0m\n\u001b[1;32m----> 1\u001b[0m df_years_gap4\u001b[38;5;241m=\u001b[39m \u001b[43mdf_years\u001b[49m\u001b[43m[\u001b[49m\u001b[43m[\u001b[49m\u001b[38;5;124;43m'\u001b[39;49m\u001b[38;5;124;43mSeries Name\u001b[39;49m\u001b[38;5;124;43m'\u001b[39;49m\u001b[43m,\u001b[49m\u001b[38;5;124;43m'\u001b[39;49m\u001b[38;5;124;43m1990\u001b[39;49m\u001b[38;5;124;43m'\u001b[39;49m\u001b[43m,\u001b[49m\u001b[43m \u001b[49m\u001b[38;5;124;43m'\u001b[39;49m\u001b[38;5;124;43m1994\u001b[39;49m\u001b[38;5;124;43m'\u001b[39;49m\u001b[43m,\u001b[49m\u001b[43m \u001b[49m\u001b[38;5;124;43m'\u001b[39;49m\u001b[38;5;124;43m1998\u001b[39;49m\u001b[38;5;124;43m'\u001b[39;49m\u001b[43m,\u001b[49m\u001b[43m \u001b[49m\u001b[38;5;124;43m'\u001b[39;49m\u001b[38;5;124;43m2002\u001b[39;49m\u001b[38;5;124;43m'\u001b[39;49m\u001b[43m,\u001b[49m\u001b[43m \u001b[49m\u001b[38;5;124;43m'\u001b[39;49m\u001b[38;5;124;43m2006\u001b[39;49m\u001b[38;5;124;43m'\u001b[39;49m\u001b[43m,\u001b[49m\u001b[43m \u001b[49m\u001b[38;5;124;43m'\u001b[39;49m\u001b[38;5;124;43m2012\u001b[39;49m\u001b[38;5;124;43m'\u001b[39;49m\u001b[43m \u001b[49m\u001b[43m]\u001b[49m\u001b[43m]\u001b[49m\n\u001b[0;32m      2\u001b[0m df_years_gap4[(df_years_gap4[\u001b[38;5;124m'\u001b[39m\u001b[38;5;124mSeries Name\u001b[39m\u001b[38;5;124m'\u001b[39m]\u001b[38;5;241m==\u001b[39m\u001b[38;5;124m'\u001b[39m\u001b[38;5;124mPopulation, total\u001b[39m\u001b[38;5;124m'\u001b[39m)]\u001b[38;5;241m.\u001b[39mplot\u001b[38;5;241m.\u001b[39mbar();\n\u001b[0;32m      3\u001b[0m plt\u001b[38;5;241m.\u001b[39mtitle(\u001b[38;5;124m'\u001b[39m\u001b[38;5;124mPopulation, total of different countries with 4 years gap\u001b[39m\u001b[38;5;124m'\u001b[39m)\n",
      "File \u001b[1;32mc:\\Users\\Zain\\AppData\\Local\\Programs\\Python\\Python312\\Lib\\site-packages\\pandas\\core\\frame.py:3899\u001b[0m, in \u001b[0;36mDataFrame.__getitem__\u001b[1;34m(self, key)\u001b[0m\n\u001b[0;32m   3897\u001b[0m     \u001b[38;5;28;01mif\u001b[39;00m is_iterator(key):\n\u001b[0;32m   3898\u001b[0m         key \u001b[38;5;241m=\u001b[39m \u001b[38;5;28mlist\u001b[39m(key)\n\u001b[1;32m-> 3899\u001b[0m     indexer \u001b[38;5;241m=\u001b[39m \u001b[38;5;28;43mself\u001b[39;49m\u001b[38;5;241;43m.\u001b[39;49m\u001b[43mcolumns\u001b[49m\u001b[38;5;241;43m.\u001b[39;49m\u001b[43m_get_indexer_strict\u001b[49m\u001b[43m(\u001b[49m\u001b[43mkey\u001b[49m\u001b[43m,\u001b[49m\u001b[43m \u001b[49m\u001b[38;5;124;43m\"\u001b[39;49m\u001b[38;5;124;43mcolumns\u001b[39;49m\u001b[38;5;124;43m\"\u001b[39;49m\u001b[43m)\u001b[49m[\u001b[38;5;241m1\u001b[39m]\n\u001b[0;32m   3901\u001b[0m \u001b[38;5;66;03m# take() does not accept boolean indexers\u001b[39;00m\n\u001b[0;32m   3902\u001b[0m \u001b[38;5;28;01mif\u001b[39;00m \u001b[38;5;28mgetattr\u001b[39m(indexer, \u001b[38;5;124m\"\u001b[39m\u001b[38;5;124mdtype\u001b[39m\u001b[38;5;124m\"\u001b[39m, \u001b[38;5;28;01mNone\u001b[39;00m) \u001b[38;5;241m==\u001b[39m \u001b[38;5;28mbool\u001b[39m:\n",
      "File \u001b[1;32mc:\\Users\\Zain\\AppData\\Local\\Programs\\Python\\Python312\\Lib\\site-packages\\pandas\\core\\indexes\\base.py:6114\u001b[0m, in \u001b[0;36mIndex._get_indexer_strict\u001b[1;34m(self, key, axis_name)\u001b[0m\n\u001b[0;32m   6111\u001b[0m \u001b[38;5;28;01melse\u001b[39;00m:\n\u001b[0;32m   6112\u001b[0m     keyarr, indexer, new_indexer \u001b[38;5;241m=\u001b[39m \u001b[38;5;28mself\u001b[39m\u001b[38;5;241m.\u001b[39m_reindex_non_unique(keyarr)\n\u001b[1;32m-> 6114\u001b[0m \u001b[38;5;28;43mself\u001b[39;49m\u001b[38;5;241;43m.\u001b[39;49m\u001b[43m_raise_if_missing\u001b[49m\u001b[43m(\u001b[49m\u001b[43mkeyarr\u001b[49m\u001b[43m,\u001b[49m\u001b[43m \u001b[49m\u001b[43mindexer\u001b[49m\u001b[43m,\u001b[49m\u001b[43m \u001b[49m\u001b[43maxis_name\u001b[49m\u001b[43m)\u001b[49m\n\u001b[0;32m   6116\u001b[0m keyarr \u001b[38;5;241m=\u001b[39m \u001b[38;5;28mself\u001b[39m\u001b[38;5;241m.\u001b[39mtake(indexer)\n\u001b[0;32m   6117\u001b[0m \u001b[38;5;28;01mif\u001b[39;00m \u001b[38;5;28misinstance\u001b[39m(key, Index):\n\u001b[0;32m   6118\u001b[0m     \u001b[38;5;66;03m# GH 42790 - Preserve name from an Index\u001b[39;00m\n",
      "File \u001b[1;32mc:\\Users\\Zain\\AppData\\Local\\Programs\\Python\\Python312\\Lib\\site-packages\\pandas\\core\\indexes\\base.py:6175\u001b[0m, in \u001b[0;36mIndex._raise_if_missing\u001b[1;34m(self, key, indexer, axis_name)\u001b[0m\n\u001b[0;32m   6173\u001b[0m     \u001b[38;5;28;01mif\u001b[39;00m use_interval_msg:\n\u001b[0;32m   6174\u001b[0m         key \u001b[38;5;241m=\u001b[39m \u001b[38;5;28mlist\u001b[39m(key)\n\u001b[1;32m-> 6175\u001b[0m     \u001b[38;5;28;01mraise\u001b[39;00m \u001b[38;5;167;01mKeyError\u001b[39;00m(\u001b[38;5;124mf\u001b[39m\u001b[38;5;124m\"\u001b[39m\u001b[38;5;124mNone of [\u001b[39m\u001b[38;5;132;01m{\u001b[39;00mkey\u001b[38;5;132;01m}\u001b[39;00m\u001b[38;5;124m] are in the [\u001b[39m\u001b[38;5;132;01m{\u001b[39;00maxis_name\u001b[38;5;132;01m}\u001b[39;00m\u001b[38;5;124m]\u001b[39m\u001b[38;5;124m\"\u001b[39m)\n\u001b[0;32m   6177\u001b[0m not_found \u001b[38;5;241m=\u001b[39m \u001b[38;5;28mlist\u001b[39m(ensure_index(key)[missing_mask\u001b[38;5;241m.\u001b[39mnonzero()[\u001b[38;5;241m0\u001b[39m]]\u001b[38;5;241m.\u001b[39munique())\n\u001b[0;32m   6178\u001b[0m \u001b[38;5;28;01mraise\u001b[39;00m \u001b[38;5;167;01mKeyError\u001b[39;00m(\u001b[38;5;124mf\u001b[39m\u001b[38;5;124m\"\u001b[39m\u001b[38;5;132;01m{\u001b[39;00mnot_found\u001b[38;5;132;01m}\u001b[39;00m\u001b[38;5;124m not in index\u001b[39m\u001b[38;5;124m\"\u001b[39m)\n",
      "\u001b[1;31mKeyError\u001b[0m: \"None of [Index(['Series Name', '1990', '1994', '1998', '2002', '2006', '2012'], dtype='object', name='Country Name')] are in the [columns]\""
     ]
    }
   ],
   "source": [
    "df_years_gap4= df_years[['Series Name','1990', '1994', '1998', '2002', '2006', '2012' ]]\n",
    "df_years_gap4[(df_years_gap4['Series Name']=='Population, total')].plot.bar();\n",
    "plt.title('Population, total of different countries with 4 years gap')"
   ]
  }
 ],
 "metadata": {
  "kernelspec": {
   "display_name": "Python 3",
   "language": "python",
   "name": "python3"
  },
  "language_info": {
   "codemirror_mode": {
    "name": "ipython",
    "version": 3
   },
   "file_extension": ".py",
   "mimetype": "text/x-python",
   "name": "python",
   "nbconvert_exporter": "python",
   "pygments_lexer": "ipython3",
   "version": "3.12.0"
  }
 },
 "nbformat": 4,
 "nbformat_minor": 2
}
